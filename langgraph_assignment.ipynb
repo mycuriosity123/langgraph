{
 "cells": [
  {
   "cell_type": "code",
   "execution_count": 1,
   "id": "e4ee5077",
   "metadata": {},
   "outputs": [
    {
     "data": {
      "text/plain": [
       "True"
      ]
     },
     "execution_count": 1,
     "metadata": {},
     "output_type": "execute_result"
    }
   ],
   "source": [
    "from dotenv import load_dotenv\n",
    "load_dotenv()"
   ]
  },
  {
   "cell_type": "code",
   "execution_count": 2,
   "id": "4b8d45d7",
   "metadata": {},
   "outputs": [],
   "source": [
    "import os\n",
    "\n",
    "os.environ[\"GOOGLE_API_KEY\"] = os.getenv(\"GOOGLE_API_KEY\")"
   ]
  },
  {
   "cell_type": "code",
   "execution_count": 3,
   "id": "f6128b20",
   "metadata": {},
   "outputs": [],
   "source": [
    "os.environ[\"LANGSMITH_API_KEY\"] = os.getenv(\"LANGCHAIN_API_KEY\")\n",
    "os.environ[\"LANGCHAIN_PROJECT\"] = \"LangGraphAssignment\" \n",
    "os.environ[\"LANGSMITH_TRACING\"] = \"true\""
   ]
  },
  {
   "cell_type": "code",
   "execution_count": 4,
   "id": "46981777",
   "metadata": {},
   "outputs": [],
   "source": [
    "from langchain_google_genai import ChatGoogleGenerativeAI\n",
    "\n",
    "llm = ChatGoogleGenerativeAI(\n",
    "    model=\"gemini-2.0-flash\",\n",
    "    temperature=0,\n",
    "    max_tokens=None,\n",
    "    timeout=None,\n",
    "    max_retries=2,\n",
    ")"
   ]
  },
  {
   "cell_type": "code",
   "execution_count": 5,
   "id": "b40b5470",
   "metadata": {},
   "outputs": [
    {
     "name": "stderr",
     "output_type": "stream",
     "text": [
      "d:\\AGENTICAI_2.0\\07-June_Langgraph\\langgraph\\Lib\\site-packages\\tqdm\\auto.py:21: TqdmWarning: IProgress not found. Please update jupyter and ipywidgets. See https://ipywidgets.readthedocs.io/en/stable/user_install.html\n",
      "  from .autonotebook import tqdm as notebook_tqdm\n"
     ]
    }
   ],
   "source": [
    "from langchain_huggingface import HuggingFaceEmbeddings\n",
    "Embeddings= HuggingFaceEmbeddings(model_name=\"BAAI/bge-small-en\")"
   ]
  },
  {
   "cell_type": "code",
   "execution_count": 6,
   "id": "f58bdc79",
   "metadata": {},
   "outputs": [],
   "source": [
    "from langchain_community.document_loaders import TextLoader, DirectoryLoader\n",
    "from langchain_community.vectorstores import Chroma\n",
    "from langchain.text_splitter import RecursiveCharacterTextSplitter"
   ]
  },
  {
   "cell_type": "code",
   "execution_count": 7,
   "id": "4311be6d",
   "metadata": {},
   "outputs": [],
   "source": [
    "loader=TextLoader(\"D:/AGENTICAI_2.0/07-June_Langgraph/usa.txt\")"
   ]
  },
  {
   "cell_type": "code",
   "execution_count": 8,
   "id": "ad230ffc",
   "metadata": {},
   "outputs": [],
   "source": [
    "docs=loader.load()"
   ]
  },
  {
   "cell_type": "code",
   "execution_count": 9,
   "id": "4cb9d22a",
   "metadata": {},
   "outputs": [],
   "source": [
    "text_splitter=RecursiveCharacterTextSplitter(\n",
    "    chunk_size=200,\n",
    "    chunk_overlap=50\n",
    ")"
   ]
  },
  {
   "cell_type": "code",
   "execution_count": 10,
   "id": "c53fa37d",
   "metadata": {},
   "outputs": [],
   "source": [
    "new_docs=text_splitter.split_documents(documents=docs)"
   ]
  },
  {
   "cell_type": "code",
   "execution_count": 11,
   "id": "3b512c40",
   "metadata": {},
   "outputs": [],
   "source": [
    "db=Chroma.from_documents(new_docs,Embeddings)"
   ]
  },
  {
   "cell_type": "code",
   "execution_count": 12,
   "id": "dbfdcc01",
   "metadata": {},
   "outputs": [],
   "source": [
    "retriever=db.as_retriever(search_kwargs={\"k\": 3})"
   ]
  },
  {
   "cell_type": "code",
   "execution_count": 40,
   "id": "6cae81ac",
   "metadata": {},
   "outputs": [],
   "source": [
    "import operator\n",
    "from typing import List\n",
    "from pydantic import BaseModel , Field\n",
    "from langchain.prompts import PromptTemplate\n",
    "from typing import TypedDict, Annotated, Sequence\n",
    "from langchain_core.messages import BaseMessage\n",
    "from langchain_core.output_parsers import StrOutputParser\n",
    "from langchain_core.prompts import ChatPromptTemplate, PromptTemplate\n",
    "from langchain_core.runnables import RunnablePassthrough\n",
    "from langchain_core.messages import HumanMessage, AIMessage\n",
    "from langgraph.graph import StateGraph,END"
   ]
  },
  {
   "cell_type": "code",
   "execution_count": 41,
   "id": "2db91d39",
   "metadata": {},
   "outputs": [],
   "source": [
    "class AgentState(TypedDict):\n",
    "    messages: Annotated[Sequence[BaseMessage], operator.add]"
   ]
  },
  {
   "cell_type": "code",
   "execution_count": 42,
   "id": "afa8ec1e",
   "metadata": {},
   "outputs": [],
   "source": [
    "from langchain_google_genai import ChatGoogleGenerativeAI\n",
    "model=ChatGoogleGenerativeAI(model='gemini-1.5-flash')"
   ]
  },
  {
   "cell_type": "code",
   "execution_count": 43,
   "id": "1df2accd",
   "metadata": {},
   "outputs": [],
   "source": [
    "from langchain.output_parsers import PydanticOutputParser\n"
   ]
  },
  {
   "cell_type": "code",
   "execution_count": 44,
   "id": "c5b2cb0f",
   "metadata": {},
   "outputs": [],
   "source": [
    "def fun1(state:AgentState):\n",
    "    ques=state['messages'][-1]\n",
    "    class TopicSelectionParser(BaseModel):\n",
    "        Topic:str=Field(description=\"selected topic\")\n",
    "        Reasoning:str=Field(description='Reasoning behind topic selection')\n",
    "    parser=PydanticOutputParser(pydantic_object=TopicSelectionParser)\n",
    "    template=\"\"\"\n",
    "    Your task is to classify the given user query into one of the following categories: \n",
    "    - \"Tool Call\" for which LLM was not aware and need to search on internet\n",
    "    - \"RAG Call\" for semantic document retrieval where Vector DB contains US GDP related information\n",
    "    - \"LLM Call\" for which LLM already holds has some information about it\n",
    "    Only respond with the category name and nothing else.\n",
    "\n",
    "    User query: {question}\n",
    "    {format_instructions}\n",
    "    \"\"\"\n",
    "    prompt= PromptTemplate(\n",
    "        template=template,\n",
    "        input_variable=[\"question\"],\n",
    "        partial_variables={\"format_instructions\": parser.get_format_instructions()}\n",
    "    )\n",
    "    chain = prompt| model |parser\n",
    "    response = chain.invoke({\"question\":ques})\n",
    "    print(\"Parsed response:\", response)\n",
    "    return {\"messages\": [response.Topic]}"
   ]
  },
  {
   "cell_type": "code",
   "execution_count": 45,
   "id": "8bf40b89",
   "metadata": {},
   "outputs": [
    {
     "name": "stdout",
     "output_type": "stream",
     "text": [
      "Parsed response: Topic='Tool Call' Reasoning='LLMs do not have real-time access to weather information; requires an external weather API or website.'\n"
     ]
    },
    {
     "data": {
      "text/plain": [
       "{'messages': ['Tool Call']}"
      ]
     },
     "execution_count": 45,
     "metadata": {},
     "output_type": "execute_result"
    }
   ],
   "source": [
    "state = {\"messages\":[\"What is today's weather?\"]}\n",
    "fun1(state)"
   ]
  },
  {
   "cell_type": "code",
   "execution_count": 46,
   "id": "75d373d0",
   "metadata": {},
   "outputs": [],
   "source": [
    "def format_docs(docs):\n",
    "    return \"\\n\\n\".join(doc.page_content for doc in docs)"
   ]
  },
  {
   "cell_type": "code",
   "execution_count": 47,
   "id": "7beb6303",
   "metadata": {},
   "outputs": [],
   "source": [
    "def fun2(state:AgentState):\n",
    "    print(\"RAG CALL\")\n",
    "    question = state[\"messages\"][0]\n",
    "    \n",
    "    prompt=PromptTemplate(\n",
    "        template=\"\"\"You are an assistant for question-answering tasks. Use the following pieces of retrieved context to answer the question. If you don't know the answer, just say that you don't know. Use three sentences maximum and keep the answer concise.\\nQuestion: {question} \\nContext: {context} \\nAnswer:\"\"\",\n",
    "        \n",
    "        input_variables=['context', 'question']\n",
    "    )\n",
    "    \n",
    "    rag_chain = (\n",
    "        {\"context\": retriever | format_docs, \"question\": RunnablePassthrough()}\n",
    "        | prompt\n",
    "        | model\n",
    "        | StrOutputParser()\n",
    "    )\n",
    "    result = rag_chain.invoke(question)\n",
    "    return  {\"messages\": [result]}"
   ]
  },
  {
   "cell_type": "code",
   "execution_count": 48,
   "id": "69aaab74",
   "metadata": {},
   "outputs": [],
   "source": [
    "def fun3(state:AgentState):\n",
    "    print(\"LLM CALL\")\n",
    "    question = state[\"messages\"][0]\n",
    "    \n",
    "    # Normal LLM call\n",
    "    complete_query = \"You are a helpful assistant to answer user query: \" + question\n",
    "    response = model.invoke(complete_query)\n",
    "    return {\"messages\": [response.content]}\n"
   ]
  },
  {
   "cell_type": "code",
   "execution_count": 64,
   "id": "43b81be3",
   "metadata": {},
   "outputs": [],
   "source": [
    "from langchain_tavily import TavilySearch\n",
    "def fun4(state:AgentState):\n",
    "    question=state[\"messages\"][0]\n",
    "    print(\"TOOL CALL\")\n",
    "    import os\n",
    "    os.environ[\"TAVILY_API_KEY\"] = os.environ.get(\"TAVILY_API_KEY\")\n",
    "    tool = TavilySearch(max_results=2,topic=\"general\",)\n",
    "    tool_msg=tool.invoke({\"query\": question})\n",
    "    return {\"messages\":[tool_msg]}\n",
    "    \n"
   ]
  },
  {
   "cell_type": "code",
   "execution_count": 50,
   "id": "c80920b7",
   "metadata": {},
   "outputs": [],
   "source": [
    "def fun5(state:AgentState):\n",
    "    category = state['messages'][-1]\n",
    "    if \"Tool Call\" in category:\n",
    "        return \"Tool Call\"\n",
    "    elif \"RAG Call\" in category:\n",
    "        return \"RAG Call\"\n",
    "    elif \"LLM Call\" in category:\n",
    "        return \"LLM Call\"\n",
    "    else:\n",
    "        return \"None\""
   ]
  },
  {
   "cell_type": "code",
   "execution_count": 51,
   "id": "9e0b4824",
   "metadata": {},
   "outputs": [
    {
     "data": {
      "text/plain": [
       "'Tool Call'"
      ]
     },
     "execution_count": 51,
     "metadata": {},
     "output_type": "execute_result"
    }
   ],
   "source": [
    "state = {'messages': ['Tool Call']}\n",
    "fun5(state)"
   ]
  },
  {
   "cell_type": "code",
   "execution_count": 52,
   "id": "205275e0",
   "metadata": {},
   "outputs": [],
   "source": [
    "def fun6(state:AgentState):\n",
    "    print(\"Validation\")\n",
    "    class ResponseValidation(BaseModel):\n",
    "        answer: str = Field(..., description=\"The answer to the user's question\")\n",
    "    parser = PydanticOutputParser(pydantic_object=ResponseValidation)\n",
    "    format_instructions = parser.get_format_instructions()\n",
    "    resp=state[\"messages\"][-1]\n",
    "    question = state[\"messages\"][0]\n",
    "    prompt = f\"\"\"You are a helpful assistant. Please answer the following query clearly based on the context provided:{resp} Provide the response in this format:{format_instructions} Query: {question}\"\"\"\n",
    "    result = model.invoke(prompt)\n",
    "    try:\n",
    "         parsed_output = parser.parse(result.content)\n",
    "         print(f\"parsed output : {parsed_output}\")\n",
    "         return {\"messages\":[\"Success\"]}\n",
    "    \n",
    "    except Exception as e:\n",
    "          print(\"parsing failed\")\n",
    "          return {\"messages\":[\"Supervisor Call\"]}\n",
    "          "
   ]
  },
  {
   "cell_type": "code",
   "execution_count": 53,
   "id": "5609dc1d",
   "metadata": {},
   "outputs": [],
   "source": [
    "def fun7(state:AgentState):\n",
    "    print(\"Validation Router\")\n",
    "    valid_resp=state[\"messages\"][-1]\n",
    "    if \"Success\" in valid_resp:\n",
    "        return \"Success\"\n",
    "    else:\n",
    "        return \"Supervisor Call\""
   ]
  },
  {
   "cell_type": "code",
   "execution_count": 65,
   "id": "aa0e833e",
   "metadata": {},
   "outputs": [
    {
     "data": {
      "text/plain": [
       "<langgraph.graph.state.StateGraph at 0x2213a35aea0>"
      ]
     },
     "execution_count": 65,
     "metadata": {},
     "output_type": "execute_result"
    }
   ],
   "source": [
    "workflow=StateGraph(AgentState)\n",
    "workflow.add_node(\"Supervisor\",fun1)\n",
    "workflow.add_node(\"RAG\",fun2)\n",
    "workflow.add_node(\"LLM\",fun3)\n",
    "workflow.add_node(\"Tool\",fun4)\n",
    "workflow.add_node(\"Validation\", fun6)\n",
    "workflow.set_entry_point(\"Supervisor\")\n",
    "workflow.add_conditional_edges(\n",
    "    \"Supervisor\",\n",
    "    fun5,\n",
    "    {\n",
    "        \"RAG Call\": \"RAG\",\n",
    "        \"LLM Call\": \"LLM\",\n",
    "        \"Tool Call\": \"Tool\",\n",
    "        \"None\": END\n",
    "    }\n",
    ")\n",
    "workflow.add_edge(\"RAG\", \"Validation\")\n",
    "workflow.add_edge(\"Tool\", \"Validation\")\n",
    "workflow.add_edge(\"LLM\", \"Validation\")\n",
    "workflow.add_conditional_edges(\n",
    "    \"Validation\",\n",
    "    fun7,\n",
    "    {\n",
    "        \"Success\": END,\n",
    "        \"Supervisor Call\": \"Supervisor\"\n",
    "    }\n",
    ")"
   ]
  },
  {
   "cell_type": "code",
   "execution_count": 66,
   "id": "dbfe8a38",
   "metadata": {},
   "outputs": [],
   "source": [
    "app=workflow.compile()"
   ]
  },
  {
   "cell_type": "code",
   "execution_count": 67,
   "id": "6e0bf77b",
   "metadata": {},
   "outputs": [
    {
     "data": {
      "image/png": "[encoded data removed]",
      "text/plain": [
       "<langgraph.graph.state.CompiledStateGraph object at 0x000002213A359E00>"
      ]
     },
     "execution_count": 67,
     "metadata": {},
     "output_type": "execute_result"
    }
   ],
   "source": [
    "app"
   ]
  },
  {
   "cell_type": "code",
   "execution_count": 71,
   "id": "a50a00ce",
   "metadata": {},
   "outputs": [
    {
     "name": "stdout",
     "output_type": "stream",
     "text": [
      "Parsed response: Topic='RAG Call' Reasoning='The query directly asks for a factual piece of information (US GDP) likely contained within a vector database of US GDP related information.'\n",
      "RAG CALL\n",
      "Validation\n",
      "parsed output : answer='The estimated nominal GDP of the USA in 2024 is approximately $28 trillion, representing about 25% of the global economy.'\n",
      "Validation Router\n"
     ]
    },
    {
     "data": {
      "text/plain": [
       "{'messages': ['What is GDP of USA?',\n",
       "  'RAG Call',\n",
       "  'The nominal GDP of the USA in 2024 is estimated to be around $28 trillion.  This represents about 25% of the global economy.  It holds the #1 spot worldwide for nominal GDP.',\n",
       "  'Success']}"
      ]
     },
     "execution_count": 71,
     "metadata": {},
     "output_type": "execute_result"
    }
   ],
   "source": [
    "app.invoke({\"messages\":[\"What is GDP of USA?\"]})"
   ]
  },
  {
   "cell_type": "code",
   "execution_count": 72,
   "id": "c67e7b6b",
   "metadata": {},
   "outputs": [
    {
     "name": "stdout",
     "output_type": "stream",
     "text": [
      "Parsed response: Topic='Tool Call' Reasoning='LLM does not have real-time access to weather information; it requires an external weather API or service.'\n",
      "TOOL CALL\n",
      "Validation\n",
      "parsed output : answer='It is currently cloudy in Harbour Island, Bahamas. The temperature is 27.1°C (80.7°F), but it feels like 30.4°C (86.7°F) due to the wind.  The wind is blowing from the ESE at 14.5 mph (23.4 kph) with gusts up to 20.1 mph (32.4 kph). There is 0.0 mm of precipitation and humidity is at 80%.'\n",
      "Validation Router\n"
     ]
    },
    {
     "data": {
      "text/plain": [
       "{'messages': ['How is weather today?',\n",
       "  'Tool Call',\n",
       "  {'query': 'How is weather today?',\n",
       "   'follow_up_questions': None,\n",
       "   'answer': None,\n",
       "   'images': [],\n",
       "   'results': [{'title': 'Weather in current location',\n",
       "     'url': 'https://www.weatherapi.com/',\n",
       "     'content': \"{'location': {'name': 'Current', 'region': 'Harbour Island', 'country': 'Bahamas', 'lat': 25.4333, 'lon': -76.7833, 'tz_id': 'America/Nassau', 'localtime_epoch': 1750272960, 'localtime': '2025-06-18 14:56'}, 'current': {'last_updated_epoch': 1750272300, 'last_updated': '2025-06-18 14:45', 'temp_c': 27.1, 'temp_f': 80.7, 'is_day': 1, 'condition': {'text': 'Cloudy', 'icon': '//cdn.weatherapi.com/weather/64x64/day/119.png', 'code': 1006}, 'wind_mph': 14.5, 'wind_kph': 23.4, 'wind_degree': 118, 'wind_dir': 'ESE', 'pressure_mb': 1021.0, 'pressure_in': 30.15, 'precip_mm': 0.0, 'precip_in': 0.0, 'humidity': 80, 'cloud': 63, 'feelslike_c': 30.4, 'feelslike_f': 86.7, 'windchill_c': 27.1, 'windchill_f': 80.7, 'heatindex_c': 30.4, 'heatindex_f': 86.7, 'dewpoint_c': 23.4, 'dewpoint_f': 74.1, 'vis_km': 10.0, 'vis_miles': 6.0, 'uv': 11.3, 'gust_mph': 20.1, 'gust_kph': 32.4}}\",\n",
       "     'score': 0.8980115,\n",
       "     'raw_content': None},\n",
       "    {'title': 'United States weather forecast for Wednesday, 18 June 2025',\n",
       "     'url': 'https://www.weather25.com/north-america/usa?page=date&date=18-6',\n",
       "     'content': 'Expected weather in the United States for Wednesday, 18 June 2025 , average temperature and weather. See the last few years weather in the United States in June 18. ... United States weather forecast for Wednesday, 18 June 2025. Previous day. 3 Hours Hour by Hour. Next day. 00:00: 03:00: 06:00: 09:00: 12:00: 15:00:',\n",
       "     'score': 0.8655088,\n",
       "     'raw_content': None}],\n",
       "   'response_time': 3.47},\n",
       "  'Success']}"
      ]
     },
     "execution_count": 72,
     "metadata": {},
     "output_type": "execute_result"
    }
   ],
   "source": [
    "app.invoke({\"messages\":[\"How is weather today?\"]})"
   ]
  },
  {
   "cell_type": "code",
   "execution_count": 73,
   "id": "ae7632ed",
   "metadata": {},
   "outputs": [
    {
     "name": "stdout",
     "output_type": "stream",
     "text": [
      "Parsed response: Topic='LLM Call' Reasoning='This is a simple arithmetic problem that the LLM can solve without needing external resources or a vector database.'\n",
      "LLM CALL\n",
      "Validation\n",
      "parsed output : answer='16'\n",
      "Validation Router\n"
     ]
    },
    {
     "data": {
      "text/plain": [
       "{'messages': ['What is the sum of eight plus eight?',\n",
       "  'LLM Call',\n",
       "  'The sum of eight plus eight is 16.',\n",
       "  'Success']}"
      ]
     },
     "execution_count": 73,
     "metadata": {},
     "output_type": "execute_result"
    }
   ],
   "source": [
    "app.invoke({\"messages\":[\"What is the sum of eight plus eight?\"]})"
   ]
  },
  {
   "cell_type": "code",
   "execution_count": null,
   "id": "fd9bd1cc",
   "metadata": {},
   "outputs": [],
   "source": []
  }
 ],
 "metadata": {
  "kernelspec": {
   "display_name": "Python 3",
   "language": "python",
   "name": "python3"
  },
  "language_info": {
   "codemirror_mode": {
    "name": "ipython",
    "version": 3
   },
   "file_extension": ".py",
   "mimetype": "text/x-python",
   "name": "python",
   "nbconvert_exporter": "python",
   "pygments_lexer": "ipython3",
   "version": "3.13.3"
  }
 },
 "nbformat": 4,
 "nbformat_minor": 5
}
